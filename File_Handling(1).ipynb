{
 "cells": [
  {
   "cell_type": "code",
   "execution_count": 40,
   "id": "82da9fb2",
   "metadata": {},
   "outputs": [],
   "source": [
    "#Reading a file via file-object(also called file handle)\n",
    "\n",
    "myfile=open(r\"/storage/emulated/0/Why.txt\")"
   ]
  },
  {
   "cell_type": "code",
   "execution_count": 1,
   "id": "829a58f5",
   "metadata": {
    "scrolled": false
   },
   "outputs": [
    {
     "name": "stdout",
     "output_type": "stream",
     "text": [
      "WHY?\n",
      "\n",
      "We work we try our best \n"
     ]
    }
   ],
   "source": [
    "#Reading a file first 30 bytes and printing it \n",
    "\n",
    "myfile=open(r\"/storage/emulated/0/Why.txt\")\n",
    "str=myfile.read(30)\n",
    "print(str)\n",
    "\n",
    "myfile.close()"
   ]
  },
  {
   "cell_type": "code",
   "execution_count": 3,
   "id": "1e22082a",
   "metadata": {},
   "outputs": [
    {
     "ename": "NameError",
     "evalue": "name 'file' is not defined",
     "output_type": "error",
     "traceback": [
      "\u001b[0;31m---------------------------------------------------------------------------\u001b[0m",
      "\u001b[0;31mNameError\u001b[0m                                 Traceback (most recent call last)",
      "\u001b[0;32m/data/data/com.termux/files/usr/tmp/ipykernel_6646/3163748617.py\u001b[0m in \u001b[0;36m<module>\u001b[0;34m\u001b[0m\n\u001b[1;32m      1\u001b[0m \u001b[0;31m# Temporary Instance\u001b[0m\u001b[0;34m\u001b[0m\u001b[0;34m\u001b[0m\u001b[0;34m\u001b[0m\u001b[0m\n\u001b[0;32m----> 2\u001b[0;31m \u001b[0mfile\u001b[0m\u001b[0;34m(\u001b[0m\u001b[0;34mr\"/storage/emulated/0/Why.txt\"\u001b[0m\u001b[0;34m,\u001b[0m\u001b[0;34m\"r\"\u001b[0m\u001b[0;34m)\u001b[0m\u001b[0;34m.\u001b[0m\u001b[0mread\u001b[0m\u001b[0;34m(\u001b[0m\u001b[0;36m30\u001b[0m\u001b[0;34m)\u001b[0m\u001b[0;34m\u001b[0m\u001b[0;34m\u001b[0m\u001b[0m\n\u001b[0m",
      "\u001b[0;31mNameError\u001b[0m: name 'file' is not defined"
     ]
    }
   ],
   "source": [
    "# Temporary Instance\n",
    "file(r\"/storage/emulated/0/Why.txt\",\"r\").read(30)"
   ]
  },
  {
   "cell_type": "code",
   "execution_count": 27,
   "id": "bed834a3",
   "metadata": {},
   "outputs": [
    {
     "name": "stdout",
     "output_type": "stream",
     "text": [
      "WHY?\n",
      "\n",
      "We work we try our best \n",
      "\n",
      "We work with full zest\n",
      "But, why is that we just d\n"
     ]
    }
   ],
   "source": [
    "#Reading n bytes and then reading some more bytes from the last position read \n",
    "\n",
    "myfile=open(r\"/storage/emulated/0/Why.txt\")\n",
    "str=myfile.read(30)\n",
    "print(str)\n",
    "\n",
    "str2=myfile.read(50)\n",
    "print(str2)\n",
    "myfile.close()"
   ]
  },
  {
   "cell_type": "code",
   "execution_count": 17,
   "id": "16391f87",
   "metadata": {},
   "outputs": [
    {
     "name": "stdout",
     "output_type": "stream",
     "text": [
      "WHY?\n",
      "\n",
      "We work we try our best \n",
      "We work with full zest\n",
      "But, why is that we just don’t know any letter.\n",
      "\n",
      "We still give our best,\n",
      "We have to steal,\n",
      "But why is that we don't get meals.\n",
      "\n",
      "We don’t get luxury,\n",
      "We don’t get childhood,\n",
      "But we still work,\n",
      "Not for us, but for all the others.\n",
      "\n",
      "Why is it that some kids wear shoes, BUT we make them ?\n",
      "\n",
      "by Mythili, class 5\n"
     ]
    }
   ],
   "source": [
    "#Reading a file's entire content \n",
    "\n",
    "myfile=open(r\"/storage/emulated/0/Why.txt\")\n",
    "str=myfile.read()\n",
    "print(str)\n",
    "myfile.close()"
   ]
  },
  {
   "cell_type": "code",
   "execution_count": 26,
   "id": "c699c96f",
   "metadata": {},
   "outputs": [
    {
     "name": "stdout",
     "output_type": "stream",
     "text": [
      "WHY?\n",
      "\n",
      " We work we try our best \n",
      " "
     ]
    }
   ],
   "source": [
    "#Reading a file's first three lines - line by line \n",
    "\n",
    "myfile=open(r\"/storage/emulated/0/Why.txt\")\n",
    "str=myfile.readline()\n",
    "print(str,end='')\n",
    "str=myfile.readline()\n",
    "print(str,end=' ')\n",
    "str=myfile.readline()\n",
    "print(str,end=' ')\n",
    "myfile.close()\n"
   ]
  },
  {
   "cell_type": "code",
   "execution_count": 35,
   "id": "0267f04b",
   "metadata": {},
   "outputs": [
    {
     "name": "stdout",
     "output_type": "stream",
     "text": [
      "WHY?\n",
      " \n",
      " We work we try our best \n",
      " We work with full zest\n",
      " But, why is that we just don’t know any letter.\n",
      " \n",
      " We still give our best,\n",
      " We have to steal,\n",
      " But why is that we don't get meals.\n",
      " \n",
      " We don’t get luxury,\n",
      " We don’t get childhood,\n",
      " But we still work,\n",
      " Not for us, but for all the others.\n",
      " \n",
      " Why is it that some kids wear shoes, BUT we make them ?\n",
      " \n",
      " by Mythili, class 5  "
     ]
    }
   ],
   "source": [
    "#Reading a complete file - line by line\n",
    "\n",
    "myfile=open(r\"/storage/emulated/0/Why.txt\")\n",
    "str=\" \"   #initially storing a space(any non-None value)\n",
    "while str:\n",
    "    str=myfile.readline()\n",
    "    print(str,end=' ')\n",
    "myfile.close()\n"
   ]
  },
  {
   "cell_type": "code",
   "execution_count": 39,
   "id": "d3bd73a7",
   "metadata": {},
   "outputs": [
    {
     "name": "stdout",
     "output_type": "stream",
     "text": [
      "WHY?\n",
      "\n",
      "\n",
      "\n",
      "We work we try our best \n",
      "\n",
      "We work with full zest\n",
      "\n",
      "But, why is that we just don’t know any letter.\n",
      "\n",
      "\n",
      "\n",
      "We still give our best,\n",
      "\n",
      "We have to steal,\n",
      "\n",
      "But why is that we don't get meals.\n",
      "\n",
      "\n",
      "\n",
      "We don’t get luxury,\n",
      "\n",
      "We don’t get childhood,\n",
      "\n",
      "But we still work,\n",
      "\n",
      "Not for us, but for all the others.\n",
      "\n",
      "\n",
      "\n",
      "Why is it that some kids wear shoes, BUT we make them ?\n",
      "\n",
      "\n",
      "\n",
      "by Mythili, class 5\n"
     ]
    }
   ],
   "source": [
    "#Simpler method of reading a file - line by line(New line inserted by print statement when end=' ' is not used\n",
    "\n",
    "myfile=open(r\"/storage/emulated/0/Why.txt\")\n",
    "for line in myfile:\n",
    "    print(line)\n",
    "myfile.close()\n",
    "\n",
    "#The readline() function reads the leading and trailing spaces (if any) along with trailing new line character('\\n')."
   ]
  }
 ],
 "metadata": {
  "kernelspec": {
   "display_name": "Python 3 (ipykernel)",
   "language": "python",
   "name": "python3"
  },
  "language_info": {
   "codemirror_mode": {
    "name": "ipython",
    "version": 3
   },
   "file_extension": ".py",
   "mimetype": "text/x-python",
   "name": "python",
   "nbconvert_exporter": "python",
   "pygments_lexer": "ipython3",
   "version": "3.9.6"
  }
 },
 "nbformat": 4,
 "nbformat_minor": 5
}

{
 "cells": [
  {
   "cell_type": "code",
   "execution_count": 2,
   "source": [
    "#Create a file to hold some data, separated as lines\n",
    "\n",
    "fileout=open(r\"F:\\Python files/WritePy.txt\",\"w\")\n",
    "for i in range(5):\n",
    "    name=input(\"Enter name of the student: \")\n",
    "    fileout.write(name)\n",
    "    fileout.write('\\n')\n",
    "fileout.close()"
   ],
   "outputs": [
    {
     "output_type": "stream",
     "name": "stdout",
     "text": [
      "Enter name of the student: Ramesh\n",
      "Enter name of the student: Mukesh\n",
      "Enter name of the student: Suresh\n",
      "Enter name of the student: Jignesg\n",
      "Enter name of the student: Mahesh\n"
     ]
    }
   ],
   "metadata": {}
  },
  {
   "cell_type": "code",
   "execution_count": 3,
   "source": [
    "#Creating a file with some names separated by newline characters without using write() function\n",
    "\n",
    "fileout=open(r\"F:\\Python files/WritePy1.txt\",\"w\")\n",
    "List1=[]\n",
    "for i in range(5):\n",
    "    name=input(\"Enter the name of the student: \")\n",
    "    List1.append(name+'\\n')\n",
    "fileout.writelines(List1)\n",
    "fileout.close()"
   ],
   "outputs": [
    {
     "output_type": "stream",
     "name": "stdout",
     "text": [
      "Enter the name of the student: Ram\n",
      "Enter the name of the student: Shyan\n",
      "Enter the name of the student: Mohan\n",
      "Enter the name of the student: SIte\n",
      "Enter the name of the student: Kick\n"
     ]
    }
   ],
   "metadata": {}
  },
  {
   "cell_type": "code",
   "execution_count": 2,
   "source": [
    "count=int(input(\"How many students are there in the class? \"))\n",
    "fileout=open(r\"F:\\Python files\\New folder\\FIles Created by Python\\Marks.det\",\"w\")\n",
    "\n",
    "for i in range(count):\n",
    "    print(\"Enter details of the student\",(i+1),\"below: \")\n",
    "    rollno=int(input(\"RollNo.: \"))\n",
    "    name=input(\"Name: \")\n",
    "    marks=float(input(\"Marks: \"))\n",
    "    rec=str(rollno)+\",\"+name+\",\"+str(marks)+'\\n'\n",
    "    fileout.write(rec)\n",
    "fileout.close()\n"
   ],
   "outputs": [
    {
     "output_type": "stream",
     "name": "stdout",
     "text": [
      "How many students are there in the class? 3\n",
      "Enter details of the student 1 below: \n",
      "RollNo.: 1\n",
      "Name: Ash\n",
      "Marks: 99\n",
      "Enter details of the student 2 below: \n",
      "RollNo.: 2\n",
      "Name: ASASA\n",
      "Marks: 98\n",
      "Enter details of the student 3 below: \n",
      "RollNo.: 03\n",
      "Name: Asdf\n",
      "Marks: 99.99\n"
     ]
    }
   ],
   "metadata": {}
  },
  {
   "cell_type": "code",
   "execution_count": 1,
   "source": [
    "fh = open(r\"/root/Documents/Note-making.txt\", 'r')\n",
    "fh.read()"
   ],
   "outputs": [
    {
     "output_type": "execute_result",
     "data": {
      "text/plain": [
       "'\\t\\tNOTE MAKING\\n\\nMain heading\\n(Title)\\n\\nHeading\\n(Title for a para or a group of para)\\n\\nSubheadings\\n(Key info of the para)\\n\\nSub-Subheadings\\n(Category,types,advatanges)\\n\\nAbbreviations\\n[// Min four //]\\n(key/long words || Expanded separately)\\n\\nSummary\\n(80-90 words)\\n**(Write in your own words)**\\n\\n**# Write S.No. (1,2,3,etc.) on the right side of the margin as it is the part of the answer.\\n\\n👉 Read the passage provided.\\n👉 Underline the imp points.\\n👉 Make rough notes.\\n👉 Organise in logical order.\\n👉 Use appro. format.\\n👉 Do not change the idea or message.\\n👉 Leave no space to avoid confusion.\\n👉 No drawings.\\n👉 Use of symbols is allowed.             \\n\\n1. Generation gap\\n              1.1. Diff. in opinions\\n              1.2. Diff. in attitudes\\n              1.3. Diff. in lifestyle of diff age groups\\n2. Reason\\n              2.1. Globalisation and liberalisation\\n              2.2. Fast paced modern life\\n              2.3. Stiff compt\\n              2.4. Lack of exchange of thoughts and ideas\\n3. Consequences\\n              3.2. Comm. gap\\n              3.3. Const. monitoring of children\\n              3.4 Selection of subjects and careers\\n4. Prevention \\n              4.1. Children should be treated as individuals\\n              4.2. Sensitive issues should be dealt with maturity\\n              4.3. Love and understanding\\nAbbreviation :-\\n\\nAbbreviations\\t\\tKeywords\\n\\n1. diff    \\t\\tdifferent\\n2. compt    \\t\\tcompetition\\n3. Comm     \\t\\tcomunication \\n4. Const    \\t\\tconstant\\n\\nMain Heading : Generation Gap\\n                               Summary\\n\\n    \\n\\n'"
      ]
     },
     "metadata": {},
     "execution_count": 1
    }
   ],
   "metadata": {}
  },
  {
   "cell_type": "code",
   "execution_count": 2,
   "source": [
    "fh = open(r\"/root/Documents/Why1.txt\", 'w')\n",
    "fh.write(\"This is my first file in Debian Linux \\n\")\n",
    "fh.write(\", created using python \\n\")\n",
    "fh.write(\"in VS Code. \\n\")\n",
    "fh.close()"
   ],
   "outputs": [],
   "metadata": {}
  },
  {
   "cell_type": "code",
   "execution_count": null,
   "source": [],
   "outputs": [],
   "metadata": {}
  }
 ],
 "metadata": {
  "kernelspec": {
   "name": "python3",
   "display_name": "Python 3.7.3 64-bit"
  },
  "language_info": {
   "codemirror_mode": {
    "name": "ipython",
    "version": 3
   },
   "file_extension": ".py",
   "mimetype": "text/x-python",
   "name": "python",
   "nbconvert_exporter": "python",
   "pygments_lexer": "ipython3",
   "version": "3.7.3"
  },
  "interpreter": {
   "hash": "31f2aee4e71d21fbe5cf8b01ff0e069b9275f58929596ceb00d14d90e3e16cd6"
  }
 },
 "nbformat": 4,
 "nbformat_minor": 5
}
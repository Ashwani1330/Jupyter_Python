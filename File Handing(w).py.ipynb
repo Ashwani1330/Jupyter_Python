{
 "cells": [
  {
   "cell_type": "code",
   "execution_count": 2,
   "id": "70695dd8",
   "metadata": {},
   "outputs": [
    {
     "name": "stdout",
     "output_type": "stream",
     "text": [
      "Enter name of the student: Ramesh\n",
      "Enter name of the student: Mukesh\n",
      "Enter name of the student: Suresh\n",
      "Enter name of the student: Jignesg\n",
      "Enter name of the student: Mahesh\n"
     ]
    }
   ],
   "source": [
    "#Create a file to hold some data, separated as lines\n",
    "\n",
    "fileout=open(r\"F:\\Python files/WritePy.txt\",\"w\")\n",
    "for i in range(5):\n",
    "    name=input(\"Enter name of the student: \")\n",
    "    fileout.write(name)\n",
    "    fileout.write('\\n')\n",
    "fileout.close()"
   ]
  },
  {
   "cell_type": "code",
   "execution_count": 3,
   "id": "c39b589f",
   "metadata": {},
   "outputs": [
    {
     "name": "stdout",
     "output_type": "stream",
     "text": [
      "Enter the name of the student: Ram\n",
      "Enter the name of the student: Shyan\n",
      "Enter the name of the student: Mohan\n",
      "Enter the name of the student: SIte\n",
      "Enter the name of the student: Kick\n"
     ]
    }
   ],
   "source": [
    "#Creating a file with some names separated by newline characters without using write() function\n",
    "\n",
    "fileout=open(r\"F:\\Python files/WritePy1.txt\",\"w\")\n",
    "List1=[]\n",
    "for i in range(5):\n",
    "    name=input(\"Enter the name of the student: \")\n",
    "    List1.append(name+'\\n')\n",
    "fileout.writelines(List1)\n",
    "fileout.close()"
   ]
  },
  {
   "cell_type": "code",
   "execution_count": 2,
   "id": "3eb220f0",
   "metadata": {},
   "outputs": [
    {
     "name": "stdout",
     "output_type": "stream",
     "text": [
      "How many students are there in the class? 3\n",
      "Enter details of the student 1 below: \n",
      "RollNo.: 1\n",
      "Name: Ash\n",
      "Marks: 99\n",
      "Enter details of the student 2 below: \n",
      "RollNo.: 2\n",
      "Name: ASASA\n",
      "Marks: 98\n",
      "Enter details of the student 3 below: \n",
      "RollNo.: 03\n",
      "Name: Asdf\n",
      "Marks: 99.99\n"
     ]
    }
   ],
   "source": [
    "count=int(input(\"How many students are there in the class? \"))\n",
    "fileout=open(r\"F:\\Python files\\New folder\\FIles Created by Python\\Marks.det\",\"w\")\n",
    "\n",
    "for i in range(count):\n",
    "    print(\"Enter details of the student\",(i+1),\"below: \")\n",
    "    rollno=int(input(\"RollNo.: \"))\n",
    "    name=input(\"Name: \")\n",
    "    marks=float(input(\"Marks: \"))\n",
    "    rec=str(rollno)+\",\"+name+\",\"+str(marks)+'\\n'\n",
    "    fileout.write(rec)\n",
    "fileout.close()\n"
   ]
  },
  {
   "cell_type": "code",
   "execution_count": null,
   "id": "fcdca06d",
   "metadata": {},
   "outputs": [],
   "source": []
  }
 ],
 "metadata": {
  "kernelspec": {
   "display_name": "Python 3 (ipykernel)",
   "language": "python",
   "name": "python3"
  },
  "language_info": {
   "codemirror_mode": {
    "name": "ipython",
    "version": 3
   },
   "file_extension": ".py",
   "mimetype": "text/x-python",
   "name": "python",
   "nbconvert_exporter": "python",
   "pygments_lexer": "ipython3",
   "version": "3.9.6"
  }
 },
 "nbformat": 4,
 "nbformat_minor": 5
}
